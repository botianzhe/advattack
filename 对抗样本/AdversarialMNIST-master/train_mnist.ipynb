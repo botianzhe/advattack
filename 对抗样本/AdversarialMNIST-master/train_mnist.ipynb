{
 "cells": [
  {
   "cell_type": "code",
   "execution_count": 1,
   "metadata": {
    "collapsed": false
   },
   "outputs": [
    {
     "name": "stdout",
     "output_type": "stream",
     "text": [
      "Extracting MNIST_data/train-images-idx3-ubyte.gz\n",
      "Extracting MNIST_data/train-labels-idx1-ubyte.gz\n",
      "Extracting MNIST_data/t10k-images-idx3-ubyte.gz\n",
      "Extracting MNIST_data/t10k-labels-idx1-ubyte.gz\n"
     ]
    }
   ],
   "source": [
    "#train the baseline CNN model for MNIST. Model is identical to that used in the tensorflow\n",
    "#tutorial: https://www.tensorflow.org/versions/master/tutorials/mnist/pros/index.html\n",
    "\n",
    "import mnist_input\n",
    "import mnist_model\n",
    "reload(mnist_model)\n",
    "import numpy as np\n",
    "import tensorflow as tf\n",
    "mnist = mnist_input.read_data_sets('MNIST_data', one_hot=True)"
   ]
  },
  {
   "cell_type": "code",
   "execution_count": 2,
   "metadata": {
    "collapsed": false
   },
   "outputs": [],
   "source": [
    "checkpoint_path = \"/home/justin/Programming/AdverserialMNIST/saved_models/baseline_40epochs.ckpt\"\n",
    "x, y_ = mnist_model.place_holders()\n",
    "y_conv, keep_prob, variable_dict = mnist_model.model(x)"
   ]
  },
  {
   "cell_type": "code",
   "execution_count": 4,
   "metadata": {
    "collapsed": false
   },
   "outputs": [
    {
     "name": "stderr",
     "output_type": "stream",
     "text": [
      "Exception AssertionError: AssertionError() in <bound method InteractiveSession.__del__ of <tensorflow.python.client.session.InteractiveSession object at 0x7f371dea52d0>> ignored\n"
     ]
    }
   ],
   "source": [
    "cross_entropy = -tf.reduce_sum(y_*tf.log(tf.clip_by_value(y_conv,1e-10,1.0))) #avoid 0*log(0) error\n",
    "\n",
    "train_step = tf.train.AdamOptimizer(1e-4).minimize(cross_entropy)\n",
    "correct_prediction = tf.equal(tf.argmax(y_conv,1), tf.argmax(y_,1))\n",
    "accuracy = tf.reduce_mean(tf.cast(correct_prediction, \"float\"))\n",
    "\n",
    "saver = tf.train.Saver(variable_dict)\n",
    "sess = tf.InteractiveSession()\n",
    "sess.run(tf.initialize_all_variables())\n",
    "saver.restore(sess, checkpoint_path)"
   ]
  },
  {
   "cell_type": "code",
   "execution_count": 5,
   "metadata": {
    "collapsed": true
   },
   "outputs": [],
   "source": [
    "#define the l1 norm of all model parameters\n",
    "absolute_sums = []\n",
    "for variable in variable_dict.values():\n",
    "    absolute_sums.append(tf.reduce_sum(tf.abs(variable)))\n",
    "l1_sum = tf.add_n(absolute_sums)"
   ]
  },
  {
   "cell_type": "code",
   "execution_count": null,
   "metadata": {
    "collapsed": true
   },
   "outputs": [],
   "source": [
    "#compute accuracy on test set\n",
    "#my GPU gives a memory error if I try to run accuracy on the whole test set\n",
    "#so we feed in the test set in batches and aggregate the results\n",
    "def print_test_accuracy():\n",
    "    idx = 0\n",
    "    batch_size = 500\n",
    "    num_correct = 0\n",
    "    while(idx < len(mnist.test.images)):\n",
    "        num_correct += np.sum(correct_prediction.eval(feed_dict = {\n",
    "               x: mnist.test.images[idx:idx+batch_size], \n",
    "               y_: mnist.test.labels[idx:idx+batch_size], keep_prob: 1.0\n",
    "                    }))\n",
    "        idx+=batch_size\n",
    "    print \"test accuracy: %f\" %(float(num_correct)/float(len(mnist.test.images)))\n"
   ]
  },
  {
   "cell_type": "code",
   "execution_count": 8,
   "metadata": {
    "collapsed": false
   },
   "outputs": [
    {
     "name": "stdout",
     "output_type": "stream",
     "text": [
      "test accuracy: 0.993000\n",
      "step 0, training accuracy 1, l1_sum: 241367.609375\n",
      "test accuracy: 0.993100\n",
      "step 1000, training accuracy 1, l1_sum: 241550.531250\n",
      "test accuracy: 0.993100\n",
      "step 2000, training accuracy 1, l1_sum: 241670.468750\n",
      "test accuracy: 0.993200\n",
      "step 3000, training accuracy 1, l1_sum: 241804.812500\n",
      "test accuracy: 0.993800\n",
      "step 4000, training accuracy 1, l1_sum: 241941.015625\n",
      "test accuracy: 0.993900\n",
      "step 5000, training accuracy 1, l1_sum: 242055.953125\n",
      "test accuracy: 0.994200\n",
      "step 6000, training accuracy 1, l1_sum: 242186.765625\n",
      "test accuracy: 0.993500\n",
      "step 7000, training accuracy 1, l1_sum: 242325.500000\n",
      "test accuracy: 0.992500\n",
      "step 8000, training accuracy 1, l1_sum: 242432.656250\n",
      "test accuracy: 0.993200\n",
      "step 9000, training accuracy 1, l1_sum: 242538.328125\n",
      "test accuracy: 0.992500\n",
      "step 10000, training accuracy 1, l1_sum: 242670.703125\n",
      "test accuracy: 0.993500\n",
      "step 11000, training accuracy 1, l1_sum: 242796.546875\n",
      "test accuracy: 0.993100\n",
      "step 12000, training accuracy 1, l1_sum: 242900.046875\n",
      "test accuracy: 0.993700\n",
      "step 13000, training accuracy 1, l1_sum: 242985.609375\n",
      "test accuracy: 0.994700\n",
      "step 14000, training accuracy 1, l1_sum: 243148.406250\n",
      "test accuracy: 0.993600\n",
      "step 15000, training accuracy 1, l1_sum: 243266.296875\n",
      "test accuracy: 0.994000\n",
      "step 16000, training accuracy 1, l1_sum: 243361.546875\n",
      "test accuracy: 0.992800\n",
      "step 17000, training accuracy 1, l1_sum: 243499.625000\n",
      "test accuracy: 0.992700\n",
      "step 18000, training accuracy 1, l1_sum: 243618.234375\n",
      "test accuracy: 0.993400\n",
      "step 19000, training accuracy 1, l1_sum: 243732.765625\n",
      "test accuracy: 0.993000\n",
      "step 20000, training accuracy 1, l1_sum: 243837.500000\n",
      "test accuracy: 0.993900\n",
      "step 21000, training accuracy 1, l1_sum: 243925.859375\n",
      "test accuracy: 0.993500\n",
      "step 22000, training accuracy 1, l1_sum: 244034.234375\n",
      "test accuracy: 0.993800\n",
      "step 23000, training accuracy 1, l1_sum: 244154.218750\n",
      "test accuracy: 0.993100\n",
      "step 24000, training accuracy 1, l1_sum: 244268.453125\n",
      "test accuracy: 0.993600\n",
      "step 25000, training accuracy 1, l1_sum: 244393.140625\n",
      "test accuracy: 0.993100\n",
      "step 26000, training accuracy 1, l1_sum: 244501.421875\n",
      "test accuracy: 0.994000\n",
      "step 27000, training accuracy 1, l1_sum: 244600.281250\n",
      "test accuracy: 0.993700\n",
      "step 28000, training accuracy 1, l1_sum: 244677.546875\n",
      "test accuracy: 0.993900\n",
      "step 29000, training accuracy 1, l1_sum: 244826.484375\n",
      "test accuracy: 0.993000\n",
      "step 30000, training accuracy 1, l1_sum: 244930.828125\n",
      "test accuracy: 0.993100\n",
      "step 31000, training accuracy 1, l1_sum: 245036.687500\n",
      "test accuracy: 0.993800\n",
      "step 32000, training accuracy 1, l1_sum: 245126.406250\n",
      "test accuracy: 0.994000\n",
      "step 33000, training accuracy 1, l1_sum: 245251.125000\n",
      "test accuracy: 0.992400\n",
      "step 34000, training accuracy 1, l1_sum: 245355.437500\n",
      "test accuracy: 0.993700\n",
      "step 35000, training accuracy 1, l1_sum: 245459.875000\n",
      "test accuracy: 0.994100\n",
      "step 36000, training accuracy 1, l1_sum: 245544.406250\n",
      "test accuracy: 0.994800\n",
      "step 37000, training accuracy 1, l1_sum: 245633.328125\n",
      "test accuracy: 0.993400\n",
      "step 38000, training accuracy 1, l1_sum: 245744.546875\n",
      "test accuracy: 0.992900\n",
      "step 39000, training accuracy 1, l1_sum: 245831.671875\n",
      "test accuracy: 0.993300\n",
      "step 40000, training accuracy 1, l1_sum: 245924.703125\n",
      "test accuracy: 0.993800\n",
      "step 41000, training accuracy 1, l1_sum: 246016.218750\n",
      "test accuracy: 0.993000\n",
      "step 42000, training accuracy 1, l1_sum: 246116.906250\n",
      "test accuracy: 0.993500\n",
      "step 43000, training accuracy 1, l1_sum: 246245.343750\n",
      "test accuracy: 0.992400\n",
      "step 44000, training accuracy 1, l1_sum: 246353.281250\n",
      "test accuracy: 0.993100\n",
      "step 45000, training accuracy 1, l1_sum: 246445.875000\n",
      "test accuracy: 0.993400\n",
      "step 46000, training accuracy 1, l1_sum: 246542.984375\n",
      "test accuracy: 0.993600\n",
      "step 47000, training accuracy 1, l1_sum: 246612.656250\n",
      "test accuracy: 0.993900\n",
      "step 48000, training accuracy 1, l1_sum: 246697.484375\n",
      "test accuracy: 0.993600\n",
      "step 49000, training accuracy 1, l1_sum: 246823.031250\n",
      "test accuracy: 0.994300\n",
      "step 50000, training accuracy 1, l1_sum: 246905.437500\n",
      "test accuracy: 0.992600\n",
      "step 51000, training accuracy 1, l1_sum: 246980.796875\n",
      "test accuracy: 0.994400\n",
      "step 52000, training accuracy 1, l1_sum: 247064.218750\n",
      "test accuracy: 0.993400\n",
      "step 53000, training accuracy 1, l1_sum: 247129.234375\n",
      "test accuracy: 0.992900\n",
      "step 54000, training accuracy 1, l1_sum: 247231.656250\n",
      "test accuracy: 0.993900\n",
      "step 55000, training accuracy 1, l1_sum: 247372.156250\n",
      "test accuracy: 0.993200\n",
      "step 56000, training accuracy 1, l1_sum: 247465.359375\n",
      "test accuracy: 0.993200\n",
      "step 57000, training accuracy 1, l1_sum: 247555.046875\n",
      "test accuracy: 0.993800\n",
      "step 58000, training accuracy 1, l1_sum: 247632.703125\n",
      "test accuracy: 0.992900\n",
      "step 59000, training accuracy 1, l1_sum: 247721.093750\n",
      "test accuracy: 0.993500\n",
      "step 60000, training accuracy 1, l1_sum: 247837.890625\n",
      "test accuracy: 0.993100\n",
      "step 61000, training accuracy 1, l1_sum: 247912.093750\n",
      "test accuracy: 0.992800\n",
      "step 62000, training accuracy 1, l1_sum: 248008.093750\n",
      "test accuracy: 0.993800\n",
      "step 63000, training accuracy 1, l1_sum: 248113.578125\n",
      "test accuracy: 0.993300\n",
      "step 64000, training accuracy 1, l1_sum: 248196.156250\n",
      "test accuracy: 0.993500\n",
      "step 65000, training accuracy 1, l1_sum: 248294.343750\n",
      "test accuracy: 0.993900\n",
      "step 66000, training accuracy 1, l1_sum: 248399.187500\n",
      "test accuracy: 0.993000\n",
      "step 67000, training accuracy 1, l1_sum: 248459.218750\n",
      "test accuracy: 0.993400\n",
      "step 68000, training accuracy 1, l1_sum: 248535.359375\n",
      "test accuracy: 0.994000\n",
      "step 69000, training accuracy 1, l1_sum: 248646.156250\n"
     ]
    }
   ],
   "source": [
    "for i in range(70000):\n",
    "  batch = mnist.train.next_batch(50)\n",
    "  if i%1000 == 0: #every 1000 batches we save the model and output the train accuracy\n",
    "    print_test_accuracy()\n",
    "    saver.save(sess, checkpoint_path)\n",
    "    train_accuracy = accuracy.eval(feed_dict={\n",
    "        x:batch[0], y_: batch[1], keep_prob: 1.0})\n",
    "    l1_norm = sess.run(l1_sum)\n",
    "    print(\"step %d, training accuracy %g, l1_sum: %f\"%(i, train_accuracy, l1_norm))\n",
    "  train_step.run(feed_dict={x: batch[0], y_: batch[1], keep_prob: 0.5})\n",
    "\n",
    "\n"
   ]
  },
  {
   "cell_type": "code",
   "execution_count": 4,
   "metadata": {
    "collapsed": true
   },
   "outputs": [],
   "source": []
  },
  {
   "cell_type": "code",
   "execution_count": 6,
   "metadata": {
    "collapsed": false
   },
   "outputs": [
    {
     "data": {
      "text/plain": [
       "239372.95"
      ]
     },
     "execution_count": 6,
     "metadata": {},
     "output_type": "execute_result"
    }
   ],
   "source": [
    "#total weight of all of the parameters in the model (for comparison with the l1-regularized model)\n",
    "sess.run(l1_sum)"
   ]
  },
  {
   "cell_type": "code",
   "execution_count": null,
   "metadata": {
    "collapsed": true
   },
   "outputs": [],
   "source": []
  }
 ],
 "metadata": {
  "kernelspec": {
   "display_name": "Python 2",
   "language": "python",
   "name": "python2"
  },
  "language_info": {
   "codemirror_mode": {
    "name": "ipython",
    "version": 2
   },
   "file_extension": ".py",
   "mimetype": "text/x-python",
   "name": "python",
   "nbconvert_exporter": "python",
   "pygments_lexer": "ipython2",
   "version": "2.7.10"
  }
 },
 "nbformat": 4,
 "nbformat_minor": 0
}
