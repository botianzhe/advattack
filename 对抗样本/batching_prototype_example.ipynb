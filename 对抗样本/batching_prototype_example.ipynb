{
  "cells": [
    {
      "metadata": {
        "ExecuteTime": {
          "start_time": "2019-05-20T12:22:02.785194Z",
          "end_time": "2019-05-20T12:22:03.081900Z"
        },
        "trusted": true
      },
      "cell_type": "code",
      "source": "%load_ext autoreload\n%autoreload 2\n%matplotlib inline",
      "execution_count": 1,
      "outputs": []
    },
    {
      "metadata": {
        "ExecuteTime": {
          "start_time": "2019-05-20T12:22:03.084171Z",
          "end_time": "2019-05-20T12:22:03.094473Z"
        },
        "trusted": true
      },
      "cell_type": "code",
      "source": "import numpy as np",
      "execution_count": 2,
      "outputs": []
    },
    {
      "metadata": {
        "ExecuteTime": {
          "start_time": "2019-05-20T12:22:03.096682Z",
          "end_time": "2019-05-20T12:22:07.764246Z"
        },
        "trusted": true
      },
      "cell_type": "code",
      "source": "import foolbox",
      "execution_count": 3,
      "outputs": []
    },
    {
      "metadata": {
        "ExecuteTime": {
          "start_time": "2019-05-20T12:22:07.766237Z",
          "end_time": "2019-05-20T12:22:08.086596Z"
        },
        "trusted": true
      },
      "cell_type": "code",
      "source": "from foolbox import zoo",
      "execution_count": 4,
      "outputs": []
    },
    {
      "metadata": {
        "ExecuteTime": {
          "start_time": "2019-05-20T12:22:08.089426Z",
          "end_time": "2019-05-20T12:22:08.114342Z"
        },
        "trusted": true
      },
      "cell_type": "code",
      "source": "from foolbox import run_sequential\nfrom foolbox import run_parallel",
      "execution_count": 5,
      "outputs": []
    },
    {
      "metadata": {
        "ExecuteTime": {
          "start_time": "2019-05-20T12:22:08.116805Z",
          "end_time": "2019-05-20T12:22:08.144160Z"
        },
        "trusted": true
      },
      "cell_type": "code",
      "source": "criterion = foolbox.criteria.Misclassification()",
      "execution_count": 6,
      "outputs": []
    },
    {
      "metadata": {},
      "cell_type": "markdown",
      "source": "### get some example model to attack"
    },
    {
      "metadata": {
        "ExecuteTime": {
          "start_time": "2019-05-20T12:22:08.147765Z",
          "end_time": "2019-05-20T12:22:17.560380Z"
        },
        "trusted": true
      },
      "cell_type": "code",
      "source": "model = zoo.get_model('https://github.com/bethgelab/cifar10_challenge')",
      "execution_count": 7,
      "outputs": [
        {
          "output_type": "stream",
          "text": "WARNING:tensorflow:From /usr/local/lib/python3.6/dist-packages/tensorflow/python/ops/tensor_array_ops.py:162: colocate_with (from tensorflow.python.framework.ops) is deprecated and will be removed in a future version.\nInstructions for updating:\nColocations handled automatically by placer.\nWARNING:tensorflow:From /usr/local/lib/python3.6/dist-packages/tensorflow/python/ops/image_ops_impl.py:1241: div (from tensorflow.python.ops.math_ops) is deprecated and will be removed in a future version.\nInstructions for updating:\nDeprecated in favor of operator or tf.math.divide.\n",
          "name": "stderr"
        },
        {
          "output_type": "stream",
          "text": "imported module: <module 'foolbox_model' from '/gpfs01/bethge/home/jrauber/.foolbox_zoo/871537923d8f2a542aebc37067906f4628c0dc04b0b723f3bf91a53c3e2b1003/foolbox_model.py'>\n\nWARNING: The TensorFlow contrib module will not be included in TensorFlow 2.0.\nFor more information, please see:\n  * https://github.com/tensorflow/community/blob/master/rfcs/20180907-contrib-sunset.md\n  * https://github.com/tensorflow/addons\nIf you depend on functionality not listed there, please file an issue.\n\n",
          "name": "stdout"
        },
        {
          "output_type": "stream",
          "text": "WARNING:tensorflow:From /gpfs01/bethge/home/jrauber/.foolbox_zoo/871537923d8f2a542aebc37067906f4628c0dc04b0b723f3bf91a53c3e2b1003/model.py:178: UniformUnitScaling.__init__ (from tensorflow.python.ops.init_ops) is deprecated and will be removed in a future version.\nInstructions for updating:\nUse tf.initializers.variance_scaling instead with distribution=uniform to get equivalent behavior.\nWARNING:tensorflow:From /usr/local/lib/python3.6/dist-packages/tensorflow/python/training/saver.py:1266: checkpoint_exists (from tensorflow.python.training.checkpoint_management) is deprecated and will be removed in a future version.\nInstructions for updating:\nUse standard file APIs to check for files with this prefix.\nWARNING:tensorflow:From /usr/local/lib/python3.6/dist-packages/tensorflow/python/ops/math_ops.py:3066: to_int32 (from tensorflow.python.ops.math_ops) is deprecated and will be removed in a future version.\nInstructions for updating:\nUse tf.cast instead.\n",
          "name": "stderr"
        }
      ]
    },
    {
      "metadata": {},
      "cell_type": "markdown",
      "source": "### get some data and make sure it matches the model's expectations"
    },
    {
      "metadata": {
        "ExecuteTime": {
          "start_time": "2019-05-20T12:22:17.563645Z",
          "end_time": "2019-05-20T12:22:17.767727Z"
        },
        "scrolled": true,
        "trusted": true
      },
      "cell_type": "code",
      "source": "images, labels = foolbox.utils.samples('cifar10', batchsize=20)",
      "execution_count": 8,
      "outputs": []
    },
    {
      "metadata": {
        "ExecuteTime": {
          "start_time": "2019-05-20T12:22:17.769942Z",
          "end_time": "2019-05-20T12:22:17.810365Z"
        },
        "trusted": true
      },
      "cell_type": "code",
      "source": "model.channel_axis(), model.bounds()",
      "execution_count": 9,
      "outputs": [
        {
          "output_type": "execute_result",
          "execution_count": 9,
          "data": {
            "text/plain": "(3, (0, 255))"
          },
          "metadata": {}
        }
      ]
    },
    {
      "metadata": {
        "ExecuteTime": {
          "start_time": "2019-05-20T12:22:17.812427Z",
          "end_time": "2019-05-20T12:22:17.849012Z"
        },
        "trusted": true
      },
      "cell_type": "code",
      "source": "images.min(), images.max(), images.dtype, images.shape",
      "execution_count": 10,
      "outputs": [
        {
          "output_type": "execute_result",
          "execution_count": 10,
          "data": {
            "text/plain": "(0.0, 255.0, dtype('float32'), (20, 32, 32, 3))"
          },
          "metadata": {}
        }
      ]
    },
    {
      "metadata": {},
      "cell_type": "markdown",
      "source": "### check the accuracy"
    },
    {
      "metadata": {
        "ExecuteTime": {
          "start_time": "2019-05-20T12:22:17.850805Z",
          "end_time": "2019-05-20T12:22:20.132669Z"
        },
        "trusted": true
      },
      "cell_type": "code",
      "source": "accuracy = np.mean(np.argmax(model.forward(images), axis=-1) == labels)\nprint(f'accuracy on {len(images)} samples: {accuracy}')",
      "execution_count": 11,
      "outputs": [
        {
          "output_type": "stream",
          "text": "accuracy on 20 samples: 0.9\n",
          "name": "stdout"
        }
      ]
    },
    {
      "metadata": {},
      "cell_type": "markdown",
      "source": "### configure logging to show state of the whole batch en detail"
    },
    {
      "metadata": {
        "ExecuteTime": {
          "start_time": "2019-05-20T12:22:20.135939Z",
          "end_time": "2019-05-20T12:22:20.183796Z"
        },
        "trusted": true
      },
      "cell_type": "code",
      "source": "import logging",
      "execution_count": 12,
      "outputs": []
    },
    {
      "metadata": {
        "ExecuteTime": {
          "start_time": "2019-05-20T12:22:20.186169Z",
          "end_time": "2019-05-20T12:22:20.233449Z"
        },
        "trusted": true
      },
      "cell_type": "code",
      "source": "logging.getLogger().setLevel(logging.INFO)",
      "execution_count": 13,
      "outputs": []
    },
    {
      "metadata": {},
      "cell_type": "markdown",
      "source": "### instead of calling the attack, we (currently) have to pass a constructor (or similar) to our run functions"
    },
    {
      "metadata": {
        "ExecuteTime": {
          "start_time": "2019-05-20T12:22:20.236732Z",
          "end_time": "2019-05-20T12:22:20.279800Z"
        },
        "trusted": true
      },
      "cell_type": "code",
      "source": "# can be function, lambda or simply a class (i.e. its constructor)\n\n# attack_create_fn = foolbox.batch_attacks.GradientAttack\nattack_create_fn = foolbox.batch_attacks.L2BasicIterativeAttack\n# attack_create_fn = foolbox.batch_attacks.CarliniWagnerL2Attack",
      "execution_count": 14,
      "outputs": []
    },
    {
      "metadata": {},
      "cell_type": "markdown",
      "source": "## run the attack"
    },
    {
      "metadata": {
        "ExecuteTime": {
          "start_time": "2019-05-20T12:22:20.281954Z",
          "end_time": "2019-05-20T12:22:20.319342Z"
        },
        "trusted": true
      },
      "cell_type": "code",
      "source": "attack_create_fn",
      "execution_count": 15,
      "outputs": [
        {
          "output_type": "execute_result",
          "execution_count": 15,
          "data": {
            "text/plain": "foolbox.batch_attacks.iterative_projected_gradient.L2BasicIterativeAttack"
          },
          "metadata": {}
        }
      ]
    },
    {
      "metadata": {},
      "cell_type": "markdown",
      "source": "### run sequentially"
    },
    {
      "metadata": {
        "ExecuteTime": {
          "start_time": "2019-05-20T12:22:20.321482Z",
          "end_time": "2019-05-20T12:23:43.442737Z"
        },
        "scrolled": true,
        "trusted": true
      },
      "cell_type": "code",
      "source": "advs = run_sequential(attack_create_fn, model, criterion, images, labels)",
      "execution_count": 16,
      "outputs": [
        {
          "output_type": "stream",
          "text": "INFO:root:successful for eps = 0.3\nINFO:root:successful for eps = 0.15\nINFO:root:successful for eps = 0.075\nINFO:root:successful for eps = 0.0375\nINFO:root:successful for eps = 0.01875\nINFO:root:successful for eps = 0.009375\nINFO:root:successful for eps = 0.0046875\nINFO:root:successful for eps = 0.00234375\nINFO:root:successful for eps = 0.001171875\nINFO:root:not successful for eps = 0.0005859375\nINFO:root:not successful for eps = 0.0008789062499999999\nINFO:root:not successful for eps = 0.0010253906249999998\nINFO:root:successful for eps = 0.0010986328125\nINFO:root:not successful for eps = 0.00106201171875\nINFO:root:successful for eps = 0.001080322265625\nINFO:root:successful for eps = 0.0010711669921874998\nINFO:root:successful for eps = 0.0010665893554687499\nINFO:root:not successful for eps = 0.001064300537109375\nINFO:root:successful for eps = 0.0010654449462890623\nINFO:root:not successful for eps = 0.0010648727416992187\nINFO:root:successful for eps = 0.0010651588439941405\nINFO:root:1 of 20 attacks completed\nINFO:root:successful for eps = 0.3\nINFO:root:successful for eps = 0.15\nINFO:root:successful for eps = 0.075\nINFO:root:successful for eps = 0.0375\nINFO:root:successful for eps = 0.01875\nINFO:root:successful for eps = 0.009375\nINFO:root:not successful for eps = 0.0046875\nINFO:root:not successful for eps = 0.007031249999999999\nINFO:root:not successful for eps = 0.008203124999999999\nINFO:root:not successful for eps = 0.0087890625\nINFO:root:successful for eps = 0.00908203125\nINFO:root:not successful for eps = 0.008935546875\nINFO:root:successful for eps = 0.009008789062500001\nINFO:root:not successful for eps = 0.00897216796875\nINFO:root:not successful for eps = 0.008990478515625\nINFO:root:successful for eps = 0.008999633789062501\nINFO:root:successful for eps = 0.00899505615234375\nINFO:root:successful for eps = 0.008992767333984375\nINFO:root:successful for eps = 0.008991622924804689\nINFO:root:not successful for eps = 0.008991050720214845\nINFO:root:successful for eps = 0.008991336822509768\nINFO:root:2 of 20 attacks completed\nINFO:root:successful for eps = 0.3\nINFO:root:successful for eps = 0.15\nINFO:root:successful for eps = 0.075\nINFO:root:successful for eps = 0.0375\nINFO:root:successful for eps = 0.01875\nINFO:root:successful for eps = 0.009375\nINFO:root:successful for eps = 0.0046875\nINFO:root:not successful for eps = 0.00234375\nINFO:root:not successful for eps = 0.0035156249999999997\nINFO:root:successful for eps = 0.004101562499999999\nINFO:root:not successful for eps = 0.0038085937499999995\nINFO:root:not successful for eps = 0.003955078124999999\nINFO:root:not successful for eps = 0.004028320312499999\nINFO:root:successful for eps = 0.00406494140625\nINFO:root:successful for eps = 0.004046630859374999\nINFO:root:successful for eps = 0.004037475585937499\nINFO:root:successful for eps = 0.004032897949218749\nINFO:root:successful for eps = 0.004030609130859375\nINFO:root:not successful for eps = 0.0040294647216796865\nINFO:root:successful for eps = 0.0040300369262695306\nINFO:root:not successful for eps = 0.0040297508239746085\nINFO:root:3 of 20 attacks completed\nINFO:root:successful for eps = 0.3\nINFO:root:successful for eps = 0.15\nINFO:root:successful for eps = 0.075\nINFO:root:successful for eps = 0.0375\nINFO:root:successful for eps = 0.01875\nINFO:root:not successful for eps = 0.009375\nINFO:root:successful for eps = 0.014062499999999999\nINFO:root:not successful for eps = 0.01171875\nINFO:root:successful for eps = 0.012890625\nINFO:root:successful for eps = 0.0123046875\nINFO:root:not successful for eps = 0.01201171875\nINFO:root:successful for eps = 0.012158203125\nINFO:root:not successful for eps = 0.0120849609375\nINFO:root:successful for eps = 0.01212158203125\nINFO:root:not successful for eps = 0.012103271484375\nINFO:root:not successful for eps = 0.0121124267578125\nINFO:root:successful for eps = 0.012117004394531249\nINFO:root:not successful for eps = 0.012114715576171874\nINFO:root:successful for eps = 0.01211585998535156\nINFO:root:successful for eps = 0.012115287780761718\nINFO:root:successful for eps = 0.012115001678466797\nINFO:root:4 of 20 attacks completed\nINFO:root:successful for eps = 0.3\nINFO:root:successful for eps = 0.15\nINFO:root:successful for eps = 0.075\nINFO:root:successful for eps = 0.0375\nINFO:root:successful for eps = 0.01875\nINFO:root:successful for eps = 0.009375\nINFO:root:not successful for eps = 0.0046875\nINFO:root:not successful for eps = 0.007031249999999999\nINFO:root:not successful for eps = 0.008203124999999999\nINFO:root:successful for eps = 0.0087890625\nINFO:root:not successful for eps = 0.00849609375\nINFO:root:successful for eps = 0.008642578125\nINFO:root:successful for eps = 0.008569335937499999\nINFO:root:not successful for eps = 0.008532714843749999\nINFO:root:not successful for eps = 0.008551025390624998\nINFO:root:successful for eps = 0.008560180664062498\nINFO:root:successful for eps = 0.008555603027343747\nINFO:root:successful for eps = 0.008553314208984373\nINFO:root:successful for eps = 0.008552169799804686\nINFO:root:not successful for eps = 0.008551597595214842\nINFO:root:not successful for eps = 0.008551883697509765\nINFO:root:5 of 20 attacks completed\nINFO:root:successful for eps = 0.3\nINFO:root:successful for eps = 0.15\nINFO:root:successful for eps = 0.075\nINFO:root:successful for eps = 0.0375\nINFO:root:successful for eps = 0.01875\nINFO:root:successful for eps = 0.009375\nINFO:root:successful for eps = 0.0046875\nINFO:root:not successful for eps = 0.00234375\nINFO:root:not successful for eps = 0.0035156249999999997\nINFO:root:not successful for eps = 0.004101562499999999\nINFO:root:not successful for eps = 0.00439453125\nINFO:root:not successful for eps = 0.004541015625\nINFO:root:successful for eps = 0.0046142578125\nINFO:root:successful for eps = 0.00457763671875\nINFO:root:successful for eps = 0.004559326171875\nINFO:root:successful for eps = 0.004550170898437501\nINFO:root:successful for eps = 0.0045455932617187505\nINFO:root:not successful for eps = 0.004543304443359375\nINFO:root:not successful for eps = 0.004544448852539063\nINFO:root:not successful for eps = 0.004545021057128907\nINFO:root:not successful for eps = 0.0045453071594238285\nINFO:root:6 of 20 attacks completed\nINFO:root:successful for eps = 0.3\nINFO:root:successful for eps = 0.15\nINFO:root:successful for eps = 0.075\nINFO:root:successful for eps = 0.0375\nINFO:root:successful for eps = 0.01875\nINFO:root:not successful for eps = 0.009375\nINFO:root:successful for eps = 0.014062499999999999\nINFO:root:successful for eps = 0.01171875\nINFO:root:successful for eps = 0.010546875\nINFO:root:successful for eps = 0.0099609375\nINFO:root:not successful for eps = 0.009667968749999999\nINFO:root:not successful for eps = 0.009814453124999999\nINFO:root:not successful for eps = 0.0098876953125\nINFO:root:not successful for eps = 0.00992431640625\nINFO:root:successful for eps = 0.009942626953124999\nINFO:root:not successful for eps = 0.0099334716796875\nINFO:root:successful for eps = 0.00993804931640625\nINFO:root:not successful for eps = 0.009935760498046875\nINFO:root:not successful for eps = 0.009936904907226561\nINFO:root:successful for eps = 0.009937477111816405\nINFO:root:successful for eps = 0.009937191009521482\nINFO:root:7 of 20 attacks completed\nINFO:root:successful for eps = 0.3\nINFO:root:successful for eps = 0.15\nINFO:root:successful for eps = 0.075\nINFO:root:successful for eps = 0.0375\nINFO:root:successful for eps = 0.01875\nINFO:root:successful for eps = 0.009375\nINFO:root:successful for eps = 0.0046875\nINFO:root:successful for eps = 0.00234375\nINFO:root:successful for eps = 0.001171875\nINFO:root:successful for eps = 0.0005859375\nINFO:root:successful for eps = 0.00029296875\nINFO:root:successful for eps = 0.000146484375\nINFO:root:successful for eps = 7.32421875e-05\nINFO:root:successful for eps = 3.662109375e-05\nINFO:root:successful for eps = 1.8310546875e-05\nINFO:root:successful for eps = 9.1552734375e-06\nINFO:root:successful for eps = 4.57763671875e-06\nINFO:root:successful for eps = 2.288818359375e-06\nINFO:root:successful for eps = 1.1444091796875e-06\nINFO:root:successful for eps = 5.7220458984375e-07\nINFO:root:successful for eps = 2.86102294921875e-07\nINFO:root:8 of 20 attacks completed\nINFO:root:successful for eps = 0.3\n",
          "name": "stderr"
        },
        {
          "output_type": "stream",
          "text": "INFO:root:successful for eps = 0.15\nINFO:root:successful for eps = 0.075\nINFO:root:successful for eps = 0.0375\nINFO:root:successful for eps = 0.01875\nINFO:root:successful for eps = 0.009375\nINFO:root:successful for eps = 0.0046875\nINFO:root:successful for eps = 0.00234375\nINFO:root:successful for eps = 0.001171875\nINFO:root:successful for eps = 0.0005859375\nINFO:root:successful for eps = 0.00029296875\nINFO:root:successful for eps = 0.000146484375\nINFO:root:successful for eps = 7.32421875e-05\nINFO:root:successful for eps = 3.662109375e-05\nINFO:root:successful for eps = 1.8310546875e-05\nINFO:root:successful for eps = 9.1552734375e-06\nINFO:root:successful for eps = 4.57763671875e-06\nINFO:root:successful for eps = 2.288818359375e-06\nINFO:root:successful for eps = 1.1444091796875e-06\nINFO:root:successful for eps = 5.7220458984375e-07\nINFO:root:successful for eps = 2.86102294921875e-07\nINFO:root:9 of 20 attacks completed\nINFO:root:successful for eps = 0.3\nINFO:root:successful for eps = 0.15\nINFO:root:successful for eps = 0.075\nINFO:root:successful for eps = 0.0375\nINFO:root:successful for eps = 0.01875\nINFO:root:successful for eps = 0.009375\nINFO:root:successful for eps = 0.0046875\nINFO:root:successful for eps = 0.00234375\nINFO:root:not successful for eps = 0.001171875\nINFO:root:successful for eps = 0.0017578124999999998\nINFO:root:not successful for eps = 0.00146484375\nINFO:root:successful for eps = 0.001611328125\nINFO:root:successful for eps = 0.0015380859375\nINFO:root:not successful for eps = 0.00150146484375\nINFO:root:successful for eps = 0.001519775390625\nINFO:root:not successful for eps = 0.0015106201171875\nINFO:root:not successful for eps = 0.00151519775390625\nINFO:root:not successful for eps = 0.0015174865722656248\nINFO:root:not successful for eps = 0.0015186309814453124\nINFO:root:not successful for eps = 0.0015192031860351562\nINFO:root:successful for eps = 0.001519489288330078\nINFO:root:10 of 20 attacks completed\nINFO:root:successful for eps = 0.3\nINFO:root:successful for eps = 0.15\nINFO:root:successful for eps = 0.075\nINFO:root:successful for eps = 0.0375\nINFO:root:successful for eps = 0.01875\nINFO:root:successful for eps = 0.009375\nINFO:root:successful for eps = 0.0046875\nINFO:root:not successful for eps = 0.00234375\nINFO:root:successful for eps = 0.0035156249999999997\nINFO:root:not successful for eps = 0.0029296875\nINFO:root:successful for eps = 0.00322265625\nINFO:root:not successful for eps = 0.003076171875\nINFO:root:not successful for eps = 0.0031494140624999997\nINFO:root:successful for eps = 0.0031860351562499997\nINFO:root:successful for eps = 0.0031677246093749995\nINFO:root:not successful for eps = 0.0031585693359374996\nINFO:root:not successful for eps = 0.0031631469726562493\nINFO:root:successful for eps = 0.0031654357910156244\nINFO:root:successful for eps = 0.0031642913818359366\nINFO:root:successful for eps = 0.003163719177246093\nINFO:root:successful for eps = 0.0031634330749511714\nINFO:root:11 of 20 attacks completed\nINFO:root:successful for eps = 0.3\nINFO:root:successful for eps = 0.15\nINFO:root:not successful for eps = 0.075\nINFO:root:successful for eps = 0.11249999999999999\nINFO:root:successful for eps = 0.09375\nINFO:root:not successful for eps = 0.084375\nINFO:root:successful for eps = 0.0890625\nINFO:root:successful for eps = 0.08671875000000001\nINFO:root:not successful for eps = 0.08554687500000001\nINFO:root:not successful for eps = 0.08613281250000002\nINFO:root:successful for eps = 0.08642578125000001\nINFO:root:successful for eps = 0.08627929687500002\nINFO:root:not successful for eps = 0.08620605468750002\nINFO:root:not successful for eps = 0.08624267578125003\nINFO:root:not successful for eps = 0.08626098632812502\nINFO:root:successful for eps = 0.08627014160156252\nINFO:root:successful for eps = 0.08626556396484378\nINFO:root:successful for eps = 0.08626327514648441\nINFO:root:successful for eps = 0.08626213073730471\nINFO:root:successful for eps = 0.08626155853271486\nINFO:root:successful for eps = 0.08626127243041995\nINFO:root:12 of 20 attacks completed\nINFO:root:successful for eps = 0.3\nINFO:root:successful for eps = 0.15\nINFO:root:successful for eps = 0.075\nINFO:root:successful for eps = 0.0375\nINFO:root:successful for eps = 0.01875\nINFO:root:successful for eps = 0.009375\nINFO:root:successful for eps = 0.0046875\nINFO:root:not successful for eps = 0.00234375\nINFO:root:successful for eps = 0.0035156249999999997\nINFO:root:not successful for eps = 0.0029296875\nINFO:root:successful for eps = 0.00322265625\nINFO:root:not successful for eps = 0.003076171875\nINFO:root:not successful for eps = 0.0031494140624999997\nINFO:root:successful for eps = 0.0031860351562499997\nINFO:root:successful for eps = 0.0031677246093749995\nINFO:root:not successful for eps = 0.0031585693359374996\nINFO:root:successful for eps = 0.0031631469726562493\nINFO:root:successful for eps = 0.0031608581542968747\nINFO:root:successful for eps = 0.0031597137451171873\nINFO:root:not successful for eps = 0.0031591415405273432\nINFO:root:not successful for eps = 0.0031594276428222653\nINFO:root:13 of 20 attacks completed\nINFO:root:successful for eps = 0.3\nINFO:root:not successful for eps = 0.15\nINFO:root:not successful for eps = 0.22499999999999998\nINFO:root:not successful for eps = 0.26249999999999996\nINFO:root:successful for eps = 0.28125\nINFO:root:successful for eps = 0.271875\nINFO:root:successful for eps = 0.26718749999999997\nINFO:root:successful for eps = 0.26484374999999993\nINFO:root:successful for eps = 0.26367187499999994\nINFO:root:successful for eps = 0.2630859375\nINFO:root:not successful for eps = 0.26279296874999997\nINFO:root:not successful for eps = 0.262939453125\nINFO:root:successful for eps = 0.2630126953125\nINFO:root:not successful for eps = 0.26297607421875\nINFO:root:not successful for eps = 0.262994384765625\nINFO:root:successful for eps = 0.26300354003906246\nINFO:root:not successful for eps = 0.2629989624023437\nINFO:root:not successful for eps = 0.26300125122070306\nINFO:root:not successful for eps = 0.26300239562988276\nINFO:root:not successful for eps = 0.26300296783447263\nINFO:root:not successful for eps = 0.26300325393676754\nINFO:root:14 of 20 attacks completed\nINFO:root:successful for eps = 0.3\nINFO:root:successful for eps = 0.15\nINFO:root:successful for eps = 0.075\nINFO:root:successful for eps = 0.0375\nINFO:root:not successful for eps = 0.01875\nINFO:root:not successful for eps = 0.028124999999999997\nINFO:root:successful for eps = 0.032812499999999994\nINFO:root:successful for eps = 0.030468749999999996\nINFO:root:not successful for eps = 0.029296874999999997\nINFO:root:successful for eps = 0.029882812499999994\nINFO:root:not successful for eps = 0.029589843749999997\nINFO:root:not successful for eps = 0.029736328124999996\nINFO:root:successful for eps = 0.029809570312499995\nINFO:root:not successful for eps = 0.029772949218749997\nINFO:root:not successful for eps = 0.029791259765624994\nINFO:root:successful for eps = 0.029800415039062493\nINFO:root:successful for eps = 0.029795837402343744\nINFO:root:not successful for eps = 0.02979354858398437\nINFO:root:successful for eps = 0.029794692993164056\nINFO:root:successful for eps = 0.029794120788574213\nINFO:root:not successful for eps = 0.029793834686279292\nINFO:root:15 of 20 attacks completed\nINFO:root:successful for eps = 0.3\nINFO:root:successful for eps = 0.15\nINFO:root:successful for eps = 0.075\nINFO:root:successful for eps = 0.0375\nINFO:root:successful for eps = 0.01875\nINFO:root:not successful for eps = 0.009375\nINFO:root:successful for eps = 0.014062499999999999\nINFO:root:not successful for eps = 0.01171875\nINFO:root:not successful for eps = 0.012890625\nINFO:root:successful for eps = 0.013476562499999999\nINFO:root:not successful for eps = 0.01318359375\nINFO:root:not successful for eps = 0.013330078124999999\nINFO:root:successful for eps = 0.013403320312499998\nINFO:root:not successful for eps = 0.013366699218749998\nINFO:root:successful for eps = 0.013385009765624997\nINFO:root:successful for eps = 0.013375854492187499\nINFO:root:not successful for eps = 0.01337127685546875\nINFO:root:not successful for eps = 0.013373565673828124\nINFO:root:not successful for eps = 0.01337471008300781\nINFO:root:successful for eps = 0.013375282287597655\n",
          "name": "stderr"
        },
        {
          "output_type": "stream",
          "text": "INFO:root:successful for eps = 0.013374996185302732\nINFO:root:16 of 20 attacks completed\nINFO:root:successful for eps = 0.3\nINFO:root:successful for eps = 0.15\nINFO:root:successful for eps = 0.075\nINFO:root:successful for eps = 0.0375\nINFO:root:successful for eps = 0.01875\nINFO:root:successful for eps = 0.009375\nINFO:root:successful for eps = 0.0046875\nINFO:root:not successful for eps = 0.00234375\nINFO:root:successful for eps = 0.0035156249999999997\nINFO:root:successful for eps = 0.0029296875\nINFO:root:successful for eps = 0.00263671875\nINFO:root:not successful for eps = 0.002490234375\nINFO:root:not successful for eps = 0.0025634765625\nINFO:root:successful for eps = 0.00260009765625\nINFO:root:not successful for eps = 0.002581787109375\nINFO:root:successful for eps = 0.0025909423828125\nINFO:root:successful for eps = 0.00258636474609375\nINFO:root:not successful for eps = 0.002584075927734375\nINFO:root:not successful for eps = 0.0025852203369140627\nINFO:root:successful for eps = 0.0025857925415039063\nINFO:root:not successful for eps = 0.0025855064392089847\nINFO:root:17 of 20 attacks completed\nINFO:root:successful for eps = 0.3\nINFO:root:successful for eps = 0.15\nINFO:root:successful for eps = 0.075\nINFO:root:successful for eps = 0.0375\nINFO:root:successful for eps = 0.01875\nINFO:root:not successful for eps = 0.009375\nINFO:root:not successful for eps = 0.014062499999999999\nINFO:root:successful for eps = 0.016406249999999997\nINFO:root:not successful for eps = 0.015234374999999998\nINFO:root:not successful for eps = 0.015820312499999996\nINFO:root:successful for eps = 0.016113281249999997\nINFO:root:not successful for eps = 0.015966796874999994\nINFO:root:not successful for eps = 0.016040039062499997\nINFO:root:not successful for eps = 0.01607666015625\nINFO:root:not successful for eps = 0.016094970703124996\nINFO:root:successful for eps = 0.016104125976562494\nINFO:root:successful for eps = 0.016099548339843745\nINFO:root:successful for eps = 0.016097259521484372\nINFO:root:successful for eps = 0.016096115112304684\nINFO:root:successful for eps = 0.016095542907714838\nINFO:root:successful for eps = 0.016095256805419917\nINFO:root:18 of 20 attacks completed\nINFO:root:successful for eps = 0.3\nINFO:root:successful for eps = 0.15\nINFO:root:successful for eps = 0.075\nINFO:root:successful for eps = 0.0375\nINFO:root:successful for eps = 0.01875\nINFO:root:not successful for eps = 0.009375\nINFO:root:successful for eps = 0.014062499999999999\nINFO:root:successful for eps = 0.01171875\nINFO:root:not successful for eps = 0.010546875\nINFO:root:not successful for eps = 0.0111328125\nINFO:root:not successful for eps = 0.01142578125\nINFO:root:not successful for eps = 0.011572265625\nINFO:root:not successful for eps = 0.0116455078125\nINFO:root:successful for eps = 0.01168212890625\nINFO:root:not successful for eps = 0.011663818359375001\nINFO:root:successful for eps = 0.0116729736328125\nINFO:root:successful for eps = 0.01166839599609375\nINFO:root:not successful for eps = 0.011666107177734376\nINFO:root:not successful for eps = 0.011667251586914062\nINFO:root:not successful for eps = 0.011667823791503907\nINFO:root:not successful for eps = 0.01166810989379883\nINFO:root:19 of 20 attacks completed\nINFO:root:successful for eps = 0.3\nINFO:root:successful for eps = 0.15\nINFO:root:successful for eps = 0.075\nINFO:root:successful for eps = 0.0375\nINFO:root:not successful for eps = 0.01875\nINFO:root:successful for eps = 0.028124999999999997\nINFO:root:not successful for eps = 0.0234375\nINFO:root:successful for eps = 0.02578125\nINFO:root:successful for eps = 0.024609375\nINFO:root:not successful for eps = 0.0240234375\nINFO:root:not successful for eps = 0.02431640625\nINFO:root:not successful for eps = 0.024462890624999997\nINFO:root:not successful for eps = 0.0245361328125\nINFO:root:successful for eps = 0.02457275390625\nINFO:root:not successful for eps = 0.024554443359375\nINFO:root:successful for eps = 0.024563598632812503\nINFO:root:not successful for eps = 0.02455902099609375\nINFO:root:not successful for eps = 0.024561309814453126\nINFO:root:successful for eps = 0.024562454223632815\nINFO:root:not successful for eps = 0.02456188201904297\nINFO:root:not successful for eps = 0.024562168121337893\nINFO:root:20 of 20 attacks completed\n",
          "name": "stderr"
        }
      ]
    },
    {
      "metadata": {},
      "cell_type": "markdown",
      "source": "**took 87s on a V100**"
    },
    {
      "metadata": {
        "ExecuteTime": {
          "start_time": "2019-05-20T12:23:43.446628Z",
          "end_time": "2019-05-20T12:23:43.501871Z"
        },
        "trusted": true
      },
      "cell_type": "code",
      "source": "l2s = np.sqrt(np.asarray([adv.distance.value for adv in advs]) * images[0].size)\nprint(l2s.min(), l2s.max(), np.mean(l2s), np.median(l2s))",
      "execution_count": 17,
      "outputs": [
        {
          "output_type": "stream",
          "text": "2.6939584127705e-06 8.984590165293739 1.1154383108155792 0.48617539076119465\n",
          "name": "stdout"
        }
      ]
    },
    {
      "metadata": {
        "ExecuteTime": {
          "start_time": "2019-05-20T12:23:43.503884Z",
          "end_time": "2019-05-20T12:23:43.543599Z"
        },
        "trusted": true
      },
      "cell_type": "code",
      "source": "l2s",
      "execution_count": 18,
      "outputs": [
        {
          "output_type": "execute_result",
          "execution_count": 18,
          "data": {
            "text/plain": "array([5.90340948e-02, 4.98349804e-01, 2.23367315e-01, 6.71481585e-01,\n       4.74000978e-01, 2.51941591e-01, 5.50681080e-01, 2.69395841e-06,\n       2.72336066e-06, 8.42169349e-02, 1.75335262e-01, 4.73309270e+00,\n       1.75129099e-01, 8.98459017e+00, 1.64437968e+00, 7.39636443e-01,\n       1.43317503e-01, 8.92089660e-01, 6.46727624e-01, 1.36138929e+00])"
          },
          "metadata": {}
        }
      ]
    },
    {
      "metadata": {
        "ExecuteTime": {
          "start_time": "2019-05-20T12:23:43.545501Z",
          "end_time": "2019-05-20T12:23:43.581686Z"
        },
        "trusted": true
      },
      "cell_type": "code",
      "source": "np.array([adv._total_prediction_calls for adv in advs])",
      "execution_count": 19,
      "outputs": [
        {
          "output_type": "execute_result",
          "execution_count": 19,
          "data": {
            "text/plain": "array([125, 165, 156, 166, 163, 156, 156,  21,  21, 130, 145, 202, 144,\n       209, 184, 168, 134, 172, 168, 181])"
          },
          "metadata": {}
        }
      ]
    },
    {
      "metadata": {
        "ExecuteTime": {
          "start_time": "2019-05-20T12:23:43.583462Z",
          "end_time": "2019-05-20T12:23:43.623262Z"
        },
        "trusted": true
      },
      "cell_type": "code",
      "source": "np.array([adv._total_gradient_calls for adv in advs])",
      "execution_count": 20,
      "outputs": [
        {
          "output_type": "execute_result",
          "execution_count": 20,
          "data": {
            "text/plain": "array([125, 165, 156, 166, 163, 156, 156,  21,  21, 130, 145, 202, 144,\n       209, 184, 168, 134, 172, 168, 181])"
          },
          "metadata": {}
        }
      ]
    },
    {
      "metadata": {},
      "cell_type": "markdown",
      "source": "### run in parallel"
    },
    {
      "metadata": {
        "ExecuteTime": {
          "start_time": "2019-05-20T12:23:43.625538Z",
          "end_time": "2019-05-20T12:24:00.682754Z"
        },
        "scrolled": true,
        "trusted": true
      },
      "cell_type": "code",
      "source": "advs = run_parallel(attack_create_fn, model, criterion, images, labels)",
      "execution_count": 21,
      "outputs": [
        {
          "output_type": "stream",
          "text": "INFO:root:successful for eps = 0.3\nINFO:root:successful for eps = 0.3\nINFO:root:successful for eps = 0.3\nINFO:root:successful for eps = 0.3\nINFO:root:successful for eps = 0.3\nINFO:root:successful for eps = 0.3\nINFO:root:successful for eps = 0.3\nINFO:root:successful for eps = 0.3\nINFO:root:successful for eps = 0.3\nINFO:root:successful for eps = 0.3\nINFO:root:successful for eps = 0.3\nINFO:root:successful for eps = 0.3\nINFO:root:successful for eps = 0.3\nINFO:root:successful for eps = 0.3\nINFO:root:successful for eps = 0.3\nINFO:root:successful for eps = 0.3\nINFO:root:successful for eps = 0.15\nINFO:root:successful for eps = 0.15\nINFO:root:successful for eps = 0.15\nINFO:root:successful for eps = 0.15\nINFO:root:successful for eps = 0.15\nINFO:root:successful for eps = 0.15\nINFO:root:successful for eps = 0.15\nINFO:root:successful for eps = 0.15\nINFO:root:successful for eps = 0.15\nINFO:root:successful for eps = 0.15\nINFO:root:successful for eps = 0.15\nINFO:root:successful for eps = 0.15\nINFO:root:successful for eps = 0.3\nINFO:root:successful for eps = 0.15\nINFO:root:successful for eps = 0.15\nINFO:root:successful for eps = 0.15\nINFO:root:successful for eps = 0.15\nINFO:root:successful for eps = 0.3\nINFO:root:successful for eps = 0.075\nINFO:root:successful for eps = 0.075\nINFO:root:successful for eps = 0.075\nINFO:root:successful for eps = 0.075\nINFO:root:successful for eps = 0.075\nINFO:root:successful for eps = 0.075\nINFO:root:successful for eps = 0.075\nINFO:root:successful for eps = 0.075\nINFO:root:successful for eps = 0.075\nINFO:root:successful for eps = 0.075\nINFO:root:successful for eps = 0.075\nINFO:root:successful for eps = 0.075\nINFO:root:successful for eps = 0.0375\nINFO:root:successful for eps = 0.075\nINFO:root:successful for eps = 0.0375\nINFO:root:successful for eps = 0.0375\nINFO:root:successful for eps = 0.0375\nINFO:root:successful for eps = 0.0375\nINFO:root:successful for eps = 0.0375\nINFO:root:successful for eps = 0.075\nINFO:root:successful for eps = 0.0375\nINFO:root:successful for eps = 0.075\nINFO:root:successful for eps = 0.075\nINFO:root:successful for eps = 0.01875\nINFO:root:successful for eps = 0.0375\nINFO:root:successful for eps = 0.0375\nINFO:root:successful for eps = 0.0375\nINFO:root:successful for eps = 0.0375\nINFO:root:successful for eps = 0.0375\nINFO:root:successful for eps = 0.01875\nINFO:root:successful for eps = 0.01875\nINFO:root:successful for eps = 0.01875\nINFO:root:successful for eps = 0.3\nINFO:root:successful for eps = 0.15\nINFO:root:successful for eps = 0.01875\nINFO:root:successful for eps = 0.15\nINFO:root:successful for eps = 0.009375\nINFO:root:successful for eps = 0.009375\nINFO:root:successful for eps = 0.009375\nINFO:root:successful for eps = 0.009375\nINFO:root:successful for eps = 0.01875\nINFO:root:successful for eps = 0.01875\nINFO:root:successful for eps = 0.01875\nINFO:root:successful for eps = 0.0375\nINFO:root:successful for eps = 0.01875\nINFO:root:successful for eps = 0.0046875\nINFO:root:successful for eps = 0.0046875\nINFO:root:successful for eps = 0.0375\nINFO:root:successful for eps = 0.009375\nINFO:root:successful for eps = 0.0375\nINFO:root:successful for eps = 0.0375\nINFO:root:successful for eps = 0.0046875\nINFO:root:successful for eps = 0.00234375\nINFO:root:successful for eps = 0.00234375\nINFO:root:successful for eps = 0.0046875\nINFO:root:successful for eps = 0.01875\nINFO:root:successful for eps = 0.01875\nINFO:root:successful for eps = 0.01875\nINFO:root:successful for eps = 0.001171875\nINFO:root:successful for eps = 0.001171875\nINFO:root:successful for eps = 0.009375\nINFO:root:successful for eps = 0.009375\nINFO:root:successful for eps = 0.075\nINFO:root:successful for eps = 0.075\nINFO:root:successful for eps = 0.0005859375\nINFO:root:successful for eps = 0.0005859375\nINFO:root:successful for eps = 0.3\nINFO:root:successful for eps = 0.00234375\nINFO:root:successful for eps = 0.009375\nINFO:root:successful for eps = 0.009375\nINFO:root:successful for eps = 0.00029296875\nINFO:root:successful for eps = 0.00029296875\nINFO:root:successful for eps = 0.0046875\nINFO:root:successful for eps = 0.01875\nINFO:root:successful for eps = 0.000146484375\nINFO:root:successful for eps = 0.000146484375\nINFO:root:successful for eps = 0.00234375\nINFO:root:successful for eps = 0.15\nINFO:root:successful for eps = 0.01875\nINFO:root:successful for eps = 0.01875\nINFO:root:successful for eps = 7.32421875e-05\nINFO:root:successful for eps = 7.32421875e-05\nINFO:root:successful for eps = 0.01875\nINFO:root:successful for eps = 3.662109375e-05\nINFO:root:successful for eps = 3.662109375e-05\nINFO:root:successful for eps = 0.0046875\nINFO:root:successful for eps = 0.0046875\nINFO:root:successful for eps = 1.8310546875e-05\nINFO:root:successful for eps = 1.8310546875e-05\nINFO:root:successful for eps = 0.0375\nINFO:root:successful for eps = 0.009375\nINFO:root:successful for eps = 0.009375\nINFO:root:successful for eps = 9.1552734375e-06\nINFO:root:successful for eps = 9.1552734375e-06\nINFO:root:successful for eps = 0.0375\nINFO:root:successful for eps = 0.001171875\nINFO:root:successful for eps = 0.0046875\nINFO:root:successful for eps = 4.57763671875e-06\nINFO:root:successful for eps = 4.57763671875e-06\nINFO:root:successful for eps = 2.288818359375e-06\nINFO:root:successful for eps = 2.288818359375e-06\nINFO:root:successful for eps = 0.0046875\nINFO:root:not successful for eps = 0.009375\nINFO:root:successful for eps = 1.1444091796875e-06\nINFO:root:successful for eps = 1.1444091796875e-06\nINFO:root:successful for eps = 5.7220458984375e-07\nINFO:root:successful for eps = 5.7220458984375e-07\nINFO:root:not successful for eps = 0.15\nINFO:root:successful for eps = 2.86102294921875e-07\nINFO:root:successful for eps = 2.86102294921875e-07\nINFO:root:not successful for eps = 0.00234375\nINFO:root:2 of 20 attacks completed\nINFO:root:not successful for eps = 0.009375\nINFO:root:not successful for eps = 0.001171875\nINFO:root:not successful for eps = 0.075\nINFO:root:not successful for eps = 0.009375\nINFO:root:not successful for eps = 0.009375\nINFO:root:not successful for eps = 0.009375\nINFO:root:successful for eps = 0.014062499999999999\nINFO:root:not successful for eps = 0.00234375\nINFO:root:not successful for eps = 0.00234375\nINFO:root:not successful for eps = 0.01875\nINFO:root:not successful for eps = 0.0046875\nINFO:root:not successful for eps = 0.0046875\nINFO:root:not successful for eps = 0.01875\nINFO:root:successful for eps = 0.0035156249999999997\nINFO:root:not successful for eps = 0.0005859375\nINFO:root:not successful for eps = 0.00234375\nINFO:root:successful for eps = 0.0017578124999999998\nINFO:root:successful for eps = 0.014062499999999999\nINFO:root:successful for eps = 0.014062499999999999\nINFO:root:not successful for eps = 0.00234375\nINFO:root:successful for eps = 0.014062499999999999\nINFO:root:successful for eps = 0.01171875\nINFO:root:successful for eps = 0.0035156249999999997\nINFO:root:successful for eps = 0.0035156249999999997\nINFO:root:successful for eps = 0.22499999999999998\nINFO:root:successful for eps = 0.11249999999999999\nINFO:root:successful for eps = 0.0029296875\nINFO:root:successful for eps = 0.028124999999999997\nINFO:root:not successful for eps = 0.014062499999999999\nINFO:root:not successful for eps = 0.007031249999999999\nINFO:root:not successful for eps = 0.007031249999999999\nINFO:root:successful for eps = 0.010546875\nINFO:root:not successful for eps = 0.028124999999999997\nINFO:root:not successful for eps = 0.0008789062499999999\nINFO:root:not successful for eps = 0.0035156249999999997\nINFO:root:not successful for eps = 0.00146484375\nINFO:root:successful for eps = 0.00263671875\nINFO:root:successful for eps = 0.01171875\nINFO:root:not successful for eps = 0.01171875\nINFO:root:not successful for eps = 0.0035156249999999997\nINFO:root:not successful for eps = 0.01171875\nINFO:root:not successful for eps = 0.0029296875\nINFO:root:not successful for eps = 0.0029296875\nINFO:root:not successful for eps = 0.1875\nINFO:root:successful for eps = 0.09375\nINFO:root:successful for eps = 0.016406249999999997\nINFO:root:not successful for eps = 0.0234375\nINFO:root:successful for eps = 0.001611328125\nINFO:root:successful for eps = 0.032812499999999994\nINFO:root:not successful for eps = 0.008203124999999999\n",
          "name": "stderr"
        },
        {
          "output_type": "stream",
          "text": "INFO:root:successful for eps = 0.004101562499999999\nINFO:root:not successful for eps = 0.008203124999999999\nINFO:root:successful for eps = 0.0099609375\nINFO:root:not successful for eps = 0.0010253906249999998\nINFO:root:successful for eps = 0.012890625\nINFO:root:successful for eps = 0.00322265625\nINFO:root:successful for eps = 0.00322265625\nINFO:root:not successful for eps = 0.002490234375\nINFO:root:not successful for eps = 0.010546875\nINFO:root:not successful for eps = 0.004101562499999999\nINFO:root:not successful for eps = 0.012890625\nINFO:root:successful for eps = 0.0015380859375\nINFO:root:successful for eps = 0.20625\nINFO:root:not successful for eps = 0.084375\nINFO:root:successful for eps = 0.02578125\nINFO:root:not successful for eps = 0.015234374999999998\nINFO:root:successful for eps = 0.0010986328125\nINFO:root:successful for eps = 0.0087890625\nINFO:root:successful for eps = 0.030468749999999996\nINFO:root:not successful for eps = 0.0087890625\nINFO:root:not successful for eps = 0.0038085937499999995\nINFO:root:not successful for eps = 0.009667968749999999\nINFO:root:successful for eps = 0.0123046875\nINFO:root:not successful for eps = 0.003076171875\nINFO:root:not successful for eps = 0.003076171875\nINFO:root:successful for eps = 0.013476562499999999\nINFO:root:not successful for eps = 0.0025634765625\nINFO:root:not successful for eps = 0.0111328125\nINFO:root:not successful for eps = 0.00439453125\nINFO:root:not successful for eps = 0.00150146484375\nINFO:root:not successful for eps = 0.196875\nINFO:root:successful for eps = 0.0890625\nINFO:root:successful for eps = 0.024609375\nINFO:root:not successful for eps = 0.015820312499999996\nINFO:root:not successful for eps = 0.00106201171875\nINFO:root:not successful for eps = 0.00849609375\nINFO:root:not successful for eps = 0.029296874999999997\nINFO:root:successful for eps = 0.00908203125\nINFO:root:successful for eps = 0.00260009765625\nINFO:root:not successful for eps = 0.003955078124999999\nINFO:root:not successful for eps = 0.009814453124999999\nINFO:root:not successful for eps = 0.01201171875\nINFO:root:not successful for eps = 0.0031494140624999997\nINFO:root:not successful for eps = 0.0031494140624999997\nINFO:root:not successful for eps = 0.01318359375\nINFO:root:not successful for eps = 0.01142578125\nINFO:root:successful for eps = 0.001080322265625\nINFO:root:not successful for eps = 0.004541015625\nINFO:root:successful for eps = 0.001519775390625\nINFO:root:not successful for eps = 0.20156249999999998\nINFO:root:successful for eps = 0.08671875000000001\nINFO:root:not successful for eps = 0.0240234375\nINFO:root:successful for eps = 0.016113281249999997\nINFO:root:successful for eps = 0.008642578125\nINFO:root:successful for eps = 0.029882812499999994\nINFO:root:not successful for eps = 0.008935546875\nINFO:root:successful for eps = 0.0031860351562499997\nINFO:root:successful for eps = 0.0031860351562499997\nINFO:root:not successful for eps = 0.002581787109375\nINFO:root:successful for eps = 0.0010711669921874998\nINFO:root:not successful for eps = 0.004028320312499999\nINFO:root:not successful for eps = 0.0098876953125\nINFO:root:successful for eps = 0.012158203125\nINFO:root:successful for eps = 0.0046142578125\nINFO:root:not successful for eps = 0.013330078124999999\nINFO:root:not successful for eps = 0.011572265625\nINFO:root:not successful for eps = 0.0015106201171875\nINFO:root:not successful for eps = 0.20390624999999998\nINFO:root:not successful for eps = 0.08554687500000001\nINFO:root:not successful for eps = 0.02431640625\nINFO:root:not successful for eps = 0.015966796874999994\nINFO:root:successful for eps = 0.008569335937499999\nINFO:root:successful for eps = 0.0031677246093749995\nINFO:root:not successful for eps = 0.029589843749999997\nINFO:root:successful for eps = 0.0025909423828125\nINFO:root:successful for eps = 0.0010665893554687499\nINFO:root:successful for eps = 0.009008789062500001\nINFO:root:successful for eps = 0.0031677246093749995\nINFO:root:successful for eps = 0.00406494140625\nINFO:root:successful for eps = 0.00457763671875\nINFO:root:not successful for eps = 0.00992431640625\nINFO:root:not successful for eps = 0.0120849609375\nINFO:root:successful for eps = 0.013403320312499998\nINFO:root:not successful for eps = 0.0116455078125\nINFO:root:not successful for eps = 0.00151519775390625\nINFO:root:not successful for eps = 0.205078125\nINFO:root:successful for eps = 0.08613281250000002\nINFO:root:not successful for eps = 0.024462890624999997\nINFO:root:not successful for eps = 0.016040039062499997\nINFO:root:not successful for eps = 0.008532714843749999\nINFO:root:not successful for eps = 0.0031585693359374996\nINFO:root:not successful for eps = 0.029736328124999996\nINFO:root:successful for eps = 0.00258636474609375\nINFO:root:not successful for eps = 0.001064300537109375\nINFO:root:not successful for eps = 0.00897216796875\nINFO:root:not successful for eps = 0.0031585693359374996\nINFO:root:successful for eps = 0.004046630859374999\nINFO:root:successful for eps = 0.004559326171875\nINFO:root:successful for eps = 0.009942626953124999\nINFO:root:successful for eps = 0.01212158203125\nINFO:root:not successful for eps = 0.013366699218749998\nINFO:root:successful for eps = 0.01168212890625\nINFO:root:not successful for eps = 0.0015174865722656248\nINFO:root:successful for eps = 0.2056640625\nINFO:root:not successful for eps = 0.08583984375\nINFO:root:not successful for eps = 0.0245361328125\nINFO:root:not successful for eps = 0.01607666015625\nINFO:root:not successful for eps = 0.008551025390624998\nINFO:root:successful for eps = 0.0031631469726562493\nINFO:root:successful for eps = 0.029809570312499995\nINFO:root:not successful for eps = 0.002584075927734375\nINFO:root:successful for eps = 0.0010654449462890623\nINFO:root:not successful for eps = 0.008990478515625\nINFO:root:not successful for eps = 0.0031631469726562493\nINFO:root:successful for eps = 0.004037475585937499\nINFO:root:successful for eps = 0.004550170898437501\nINFO:root:not successful for eps = 0.0099334716796875\nINFO:root:not successful for eps = 0.012103271484375\nINFO:root:successful for eps = 0.013385009765624997\nINFO:root:not successful for eps = 0.011663818359375001\nINFO:root:not successful for eps = 0.0015186309814453124\nINFO:root:not successful for eps = 0.20537109375\nINFO:root:successful for eps = 0.08598632812500001\nINFO:root:successful for eps = 0.02457275390625\nINFO:root:successful for eps = 0.016094970703124996\nINFO:root:successful for eps = 0.008560180664062498\nINFO:root:successful for eps = 0.0031608581542968747\nINFO:root:not successful for eps = 0.029772949218749997\nINFO:root:not successful for eps = 0.0025852203369140627\nINFO:root:not successful for eps = 0.0010648727416992187\nINFO:root:successful for eps = 0.008999633789062501\nINFO:root:successful for eps = 0.0031654357910156244\nINFO:root:successful for eps = 0.004032897949218749\nINFO:root:not successful for eps = 0.0045455932617187505\nINFO:root:successful for eps = 0.00993804931640625\nINFO:root:not successful for eps = 0.0121124267578125\nINFO:root:successful for eps = 0.013375854492187499\nINFO:root:successful for eps = 0.0116729736328125\nINFO:root:not successful for eps = 0.0015192031860351562\nINFO:root:successful for eps = 0.205517578125\nINFO:root:successful for eps = 0.08591308593750001\nINFO:root:not successful for eps = 0.024554443359375\nINFO:root:not successful for eps = 0.016085815429687497\nINFO:root:successful for eps = 0.008555603027343747\nINFO:root:not successful for eps = 0.0031597137451171873\nINFO:root:not successful for eps = 0.029791259765624994\nINFO:root:successful for eps = 0.0025857925415039063\nINFO:root:successful for eps = 0.0010651588439941405\nINFO:root:successful for eps = 0.00899505615234375\nINFO:root:successful for eps = 0.0031642913818359366\nINFO:root:3 of 20 attacks completed\nINFO:root:successful for eps = 0.004030609130859375\nINFO:root:successful for eps = 0.004547882080078126\nINFO:root:not successful for eps = 0.009935760498046875\nINFO:root:successful for eps = 0.012117004394531249\nINFO:root:not successful for eps = 0.01337127685546875\nINFO:root:not successful for eps = 0.01166839599609375\nINFO:root:successful for eps = 0.001519489288330078\nINFO:root:successful for eps = 0.2054443359375\nINFO:root:4 of 20 attacks completed\n",
          "name": "stderr"
        },
        {
          "output_type": "stream",
          "text": "INFO:root:not successful for eps = 0.08587646484375\nINFO:root:successful for eps = 0.024563598632812503\nINFO:root:not successful for eps = 0.016090393066406247\nINFO:root:not successful for eps = 0.008553314208984373\nINFO:root:successful for eps = 0.003160285949707031\nINFO:root:not successful for eps = 0.029800415039062493\nINFO:root:not successful for eps = 0.0025855064392089847\nINFO:root:5 of 20 attacks completed\nINFO:root:successful for eps = 0.008992767333984375\nINFO:root:successful for eps = 0.003163719177246093\nINFO:root:not successful for eps = 0.0040294647216796865\nINFO:root:successful for eps = 0.004546737670898438\nINFO:root:not successful for eps = 0.009936904907226561\nINFO:root:successful for eps = 0.012114715576171874\nINFO:root:not successful for eps = 0.013373565673828124\nINFO:root:not successful for eps = 0.011670684814453125\nINFO:root:successful for eps = 0.20540771484375\nINFO:root:not successful for eps = 0.08589477539062501\nINFO:root:not successful for eps = 0.02455902099609375\nINFO:root:not successful for eps = 0.01609268188476562\nINFO:root:successful for eps = 0.008554458618164059\nINFO:root:successful for eps = 0.0031599998474121094\nINFO:root:successful for eps = 0.029804992675781246\nINFO:root:6 of 20 attacks completed\nINFO:root:successful for eps = 0.008991622924804689\nINFO:root:successful for eps = 0.0031634330749511714\nINFO:root:7 of 20 attacks completed\nINFO:root:not successful for eps = 0.0040300369262695306\nINFO:root:not successful for eps = 0.004546165466308594\nINFO:root:successful for eps = 0.009937477111816405\nINFO:root:not successful for eps = 0.012113571166992188\nINFO:root:not successful for eps = 0.01337471008300781\nINFO:root:not successful for eps = 0.011671829223632812\nINFO:root:successful for eps = 0.20538940429687502\nINFO:root:successful for eps = 0.08590393066406252\nINFO:root:successful for eps = 0.024561309814453126\nINFO:root:successful for eps = 0.016093826293945308\nINFO:root:not successful for eps = 0.008553886413574217\nINFO:root:successful for eps = 0.02980270385742187\nINFO:root:not successful for eps = 0.008991050720214845\nINFO:root:successful for eps = 0.004030323028564453\nINFO:root:successful for eps = 0.004546451568603516\nINFO:root:not successful for eps = 0.009937191009521482\nINFO:root:10 of 20 attacks completed\nINFO:root:successful for eps = 0.01211414337158203\nINFO:root:successful for eps = 0.013375282287597655\nINFO:root:not successful for eps = 0.011672401428222656\nINFO:root:not successful for eps = 0.20538024902343752\nINFO:root:successful for eps = 0.08589935302734376\nINFO:root:successful for eps = 0.024560165405273438\nINFO:root:not successful for eps = 0.016093254089355462\nINFO:root:successful for eps = 0.008554172515869138\nINFO:root:11 of 20 attacks completed\nINFO:root:successful for eps = 0.02980155944824218\nINFO:root:successful for eps = 0.008991336822509768\nINFO:root:12 of 20 attacks completed\nINFO:root:successful for eps = 0.012113857269287109\nINFO:root:13 of 20 attacks completed\nINFO:root:successful for eps = 0.013374996185302732\nINFO:root:successful for eps = 0.011672687530517579\nINFO:root:15 of 20 attacks completed\nINFO:root:not successful for eps = 0.20538482666015628\nINFO:root:not successful for eps = 0.08589706420898438\nINFO:root:not successful for eps = 0.024559593200683592\nINFO:root:successful for eps = 0.016093540191650386\nINFO:root:16 of 20 attacks completed\nINFO:root:successful for eps = 0.029800987243652335\nINFO:root:successful for eps = 0.20538711547851565\nINFO:root:successful for eps = 0.08589820861816408\nINFO:root:not successful for eps = 0.024559879302978517\nINFO:root:17 of 20 attacks completed\nINFO:root:successful for eps = 0.029800701141357414\nINFO:root:18 of 20 attacks completed\nINFO:root:not successful for eps = 0.20538597106933598\nINFO:root:successful for eps = 0.08589763641357423\nINFO:root:successful for eps = 0.2053865432739258\nINFO:root:successful for eps = 0.0858973503112793\nINFO:root:19 of 20 attacks completed\nINFO:root:successful for eps = 0.2053862571716309\nINFO:root:20 of 20 attacks completed\n",
          "name": "stderr"
        }
      ]
    },
    {
      "metadata": {},
      "cell_type": "markdown",
      "source": "**took 18s on a V100**"
    },
    {
      "metadata": {
        "ExecuteTime": {
          "start_time": "2019-05-20T12:24:00.686353Z",
          "end_time": "2019-05-20T12:24:00.732862Z"
        },
        "trusted": true
      },
      "cell_type": "code",
      "source": "l2s = np.sqrt(np.asarray([adv.distance.value for adv in advs]) * images[0].size)\nprint(l2s.min(), l2s.max(), np.mean(l2s), np.median(l2s))",
      "execution_count": 22,
      "outputs": [
        {
          "output_type": "stream",
          "text": "2.6939584127705e-06 8.249814463212598 1.0778665285606264 0.4862309097541191\n",
          "name": "stdout"
        }
      ]
    },
    {
      "metadata": {
        "ExecuteTime": {
          "start_time": "2019-05-20T12:24:00.734868Z",
          "end_time": "2019-05-20T12:24:00.771946Z"
        },
        "trusted": true
      },
      "cell_type": "code",
      "source": "l2s",
      "execution_count": 23,
      "outputs": [
        {
          "output_type": "execute_result",
          "execution_count": 23,
          "data": {
            "text/plain": "array([5.90340809e-02, 4.98349834e-01, 2.23383190e-01, 6.71418130e-01,\n       4.74111986e-01, 2.51989066e-01, 5.50696952e-01, 2.69395841e-06,\n       2.72336066e-06, 8.42169126e-02, 1.75335262e-01, 4.71609839e+00,\n       1.75144995e-01, 8.24981446e+00, 1.64459345e+00, 7.39598431e-01,\n       1.43317489e-01, 8.91994504e-01, 6.46965512e-01, 1.36126251e+00])"
          },
          "metadata": {}
        }
      ]
    },
    {
      "metadata": {
        "ExecuteTime": {
          "start_time": "2019-05-20T12:24:00.773661Z",
          "end_time": "2019-05-20T12:24:00.808047Z"
        },
        "trusted": true
      },
      "cell_type": "code",
      "source": "np.array([adv._total_prediction_calls for adv in advs])",
      "execution_count": 24,
      "outputs": [
        {
          "output_type": "execute_result",
          "execution_count": 24,
          "data": {
            "text/plain": "array([125, 165, 156, 167, 163, 156, 156,  21,  21, 130, 145, 201, 144,\n       210, 184, 168, 134, 172, 168, 181])"
          },
          "metadata": {}
        }
      ]
    },
    {
      "metadata": {
        "ExecuteTime": {
          "start_time": "2019-05-20T12:24:00.809586Z",
          "end_time": "2019-05-20T12:24:00.844847Z"
        },
        "trusted": true
      },
      "cell_type": "code",
      "source": "np.array([adv._total_gradient_calls for adv in advs])",
      "execution_count": 25,
      "outputs": [
        {
          "output_type": "execute_result",
          "execution_count": 25,
          "data": {
            "text/plain": "array([125, 165, 156, 167, 163, 156, 156,  21,  21, 130, 145, 201, 144,\n       210, 184, 168, 134, 172, 168, 181])"
          },
          "metadata": {}
        }
      ]
    },
    {
      "metadata": {},
      "cell_type": "markdown",
      "source": "**Note that the speed-up depends a lot on the attack, the model, the batch size and more.**"
    }
  ],
  "metadata": {
    "_draft": {
      "nbviewer_url": "https://gist.github.com/03f1e409cfa6e6261c720e7cf332de96"
    },
    "gist": {
      "id": "03f1e409cfa6e6261c720e7cf332de96",
      "data": {
        "description": "batching_prototype_example.ipynb",
        "public": true
      }
    },
    "kernelspec": {
      "name": "python3",
      "display_name": "Python 3",
      "language": "python"
    },
    "language_info": {
      "name": "python",
      "version": "3.6.7",
      "mimetype": "text/x-python",
      "codemirror_mode": {
        "name": "ipython",
        "version": 3
      },
      "pygments_lexer": "ipython3",
      "nbconvert_exporter": "python",
      "file_extension": ".py"
    }
  },
  "nbformat": 4,
  "nbformat_minor": 2
}